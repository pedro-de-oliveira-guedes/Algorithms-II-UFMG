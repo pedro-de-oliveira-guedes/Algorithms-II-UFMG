{
 "cells": [
  {
   "cell_type": "markdown",
   "id": "fead3d51-9f36-472e-9074-5ccc7e567a83",
   "metadata": {},
   "source": [
    "# Trabalho Prático 1\n",
    "## Algoritmos Geométricos\n",
    "**Proposta:** Envoltória Convexa como algoritmo de classificação  \n",
    "**Desenvolvedor:** Pedro de Oliveira Guedes"
   ]
  },
  {
   "cell_type": "markdown",
   "id": "3f7e9acf-b1ee-44ff-ae63-9a9a72fd15e9",
   "metadata": {},
   "source": [
    "# Introdução\n",
    "Falar sobre a motivação do trabalho, o que deve ser feito e como será testado/avaliado ao final"
   ]
  },
  {
   "cell_type": "markdown",
   "id": "b5b6b3cb-3f80-46fe-94ba-89970519cb9e",
   "metadata": {},
   "source": [
    "# Implementação\n",
    "Descrever como a implementação dos algoritmos relativos ao trabalho será feita ao longo do documento.  \n",
    "A cada subtítulo desta seção, deverá existir uma explicação da escolha daquele algoritmo, bem como o que e como ele faz e uma análise da complexidade do mesmo."
   ]
  },
  {
   "cell_type": "markdown",
   "id": "0531f75d-0056-42b5-b2b9-f4ed68776f2c",
   "metadata": {},
   "source": [
    "## Bibliotecas utilizadas\n",
    "As bibliotecas utilizadas na implementação dos algoritmos deste trabalho tem como função facilitar o desenvolvimento, utilizando algoritmos conhecidos de Algebra Linear, como redução PCA, SVD, cálculo de determinantes, entre outros."
   ]
  },
  {
   "cell_type": "code",
   "execution_count": 2,
   "id": "d9606923-262a-4762-b0de-d1b4d2c425ad",
   "metadata": {},
   "outputs": [],
   "source": [
    "import numpy as np"
   ]
  },
  {
   "cell_type": "markdown",
   "id": "916fd99c-74cf-4d67-9cb9-ddde4174550b",
   "metadata": {},
   "source": [
    "## Envoltória convexa\n",
    "O algoritmo escolhido para realizar esta tarefa é o da **Varredura de Graham**, que possui complexidade de tempo O(n*log n) e de espaço O(n). Ele foi escolhido em detrimento do algoritmo **Gift Wrapping** proposto por Jarvis, devido à menor complexidade de tempo no pior caso. Como a distribuição dos pontos após a redução de dimensionalidade dos dados é imprevisível, não é possível afirmar para todos os casos que a quantidade de vértices será mínima.\n",
    "  \n",
    "Esse algoritmo funciona fazendo a ordenação dos pontos no espaço bidimensional em relação a um vértice denominado âncora, que é escolhido como sendo o que possui menor coordenada Y, utilizando a menor coordenada X como critério de desempate.  \n",
    "  \n",
    "Após o encontro do âncora e a ordenação dos pontos, o algoritmo itera por cada um dos vértices verificando se eles devem ou não ser incluídos como vértices da envoltória, ou se eles já fazem parte como ponto interno da mesma. Para verificar se um ponto *p3* será ou não incluído como vértice do polígono, é averiguada a direção do giro feito pelo segmento *p2 -> p3* em relação a *p1 -> p2*.  \n",
    "  \n",
    "Caso o giro seja nulo ou à esquerda, o ponto p3 é incluído como vértice da envoltória. Caso contrário, o ponto *p2* é descartado e a mesma verificação é feita para o segmento *p1 -> p3* em relação a *p0 -> p1*."
   ]
  },
  {
   "cell_type": "markdown",
   "id": "74a15a11-75f1-4341-b8c8-e46ace6c0aba",
   "metadata": {},
   "source": [
    "### Critério de comparação\n",
    "Para realizar a comparação entre dois pontos distintos, é necessário realizar a normalização de ambos em relação ao âncora do conjunto. Sendo assim, será definida uma nova classe na qual os pontos serão descritos, que armazena o âncora e sobrescreve métodos de comparação como *<* e *>*, o que facilita a ordenação dos pontos."
   ]
  },
  {
   "cell_type": "code",
   "execution_count": 12,
   "id": "fac9f525-6f0e-4bb9-b7f9-5bf2791a3457",
   "metadata": {},
   "outputs": [],
   "source": [
    "def turns_left_or_keeps_direction(p0: tuple, p1: tuple, p2: tuple): # Similar a <=\n",
    "    matrix = np.array([\n",
    "            [(p1[0] - p0[0]), (p1[1] - p0[1])],\n",
    "            [(p2[0] - p0[0]), (p2[1] - p0[1])]\n",
    "        ])\n",
    "    return np.linalg.det(matrix) <= 0.0\n",
    "\n",
    "class Vertix:\n",
    "    def __init__(self, anchor: tuple, point: tuple):\n",
    "        self.anchor = anchor\n",
    "        self.point = point\n",
    "\n",
    "    def __repr__(self):\n",
    "        return f'({self.point[0]}, {self.point[1]})'\n",
    "\n",
    "    def __lt__(self, other):\n",
    "        return turns_left_or_keeps_direction(p0 = self.anchor, p1 = self.point, p2 = other.point)"
   ]
  },
  {
   "cell_type": "markdown",
   "id": "28106b5e-e24e-4204-a16d-416ff814d635",
   "metadata": {},
   "source": [
    "### Encontrando o âncora\n",
    "Para encontrar o vértice âncora do conjunto, o algoritmo assumirá que o primeiro ponto é o âncora inicialmente. Após isso, será iterado pelos outros vértices do conjunto, verificando se o atual âncora está acima do atual vértice comparado.  \n",
    "  \n",
    "Caso ele esteja, o atual vértice vira o novo âncora. Caso ambos estejam em uma mesma coordenada Y, então o que possuir a menor coordenada X será considerado âncora."
   ]
  },
  {
   "cell_type": "code",
   "execution_count": 13,
   "id": "67236913-bf6e-41ca-b7b9-f13c4f0f84c2",
   "metadata": {},
   "outputs": [],
   "source": [
    "def find_anchor(point_set: list[tuple]) -> tuple:\n",
    "    current_anchor = point_set[0]\n",
    "    \n",
    "    for index in range(1, len(point_set)):\n",
    "        if point_set[index][1] < current_anchor[1]: # Comparando Y\n",
    "            current_anchor = point_set[index]\n",
    "        if point_set[index][1] == current_anchor[1]:\n",
    "            current_anchor = point_set[index] if point_set[index][0] < current_anchor[0] else current_anchor # Comparando X no caso de empate\n",
    "\n",
    "    return current_anchor"
   ]
  },
  {
   "cell_type": "markdown",
   "id": "ea68b1f3-affb-4085-97b9-081409c0cc64",
   "metadata": {},
   "source": [
    "### Ordenando os segmentos\n",
    "A ordenação dos segmentos será baseada no critério de comparação definido anteriormente.  \n",
    "\n",
    "Para isso, o âncora será removido do conjunto inicialmente e readicionado ao fim. Para que a ordenação ocorra de forma facilitada, os elementos do conjunto serão transformados no tipo **Vertix** definido acima."
   ]
  },
  {
   "cell_type": "code",
   "execution_count": 14,
   "id": "55fc0861-a95d-49d3-bfae-ad5c9e391d83",
   "metadata": {},
   "outputs": [],
   "source": [
    "def sort_points_set(anchor: tuple, points_set: list[tuple]) -> list[tuple]:\n",
    "    points_set.remove(anchor)\n",
    "\n",
    "    vertix_set = [Vertix(anchor, (point[0], point[1])) for point in points_set]\n",
    "\n",
    "    vertix_set.sort()\n",
    "\n",
    "    sorted_points = [vertix.point for vertix in vertix_set]\n",
    "\n",
    "    return sorted_points.insert(0, anchor)"
   ]
  },
  {
   "cell_type": "markdown",
   "id": "533fb0ed-1632-4890-9fae-d66f3b9625c7",
   "metadata": {},
   "source": [
    "### Algoritmo final\n",
    "Após as definições anteriores, o algoritmo final pode ser montado de acordo com o funcionamento que foi descrito no texto da seção **Envoltória Convexa**."
   ]
  },
  {
   "cell_type": "code",
   "execution_count": 23,
   "id": "54efda1c-fcd5-496e-a913-c3fcce7b5c8d",
   "metadata": {},
   "outputs": [],
   "source": [
    "def graham_scan(points_set: list[tuple]) -> list[tuple]:\n",
    "    anchor = find_anchor(point_set = points_set)\n",
    "    \n",
    "    sorted_points = sort_points_set(anchor = anchor, points_set = points_set)\n",
    "\n",
    "    convex_hull_vertices = [point for point in sorted_points[:3]]\n",
    "\n",
    "    for current_point in sorted_points[3:]:\n",
    "        top = convex_hull_vertices.pop()\n",
    "        next_to_top = convex_hull_vertices.pop()\n",
    "        \n",
    "        while not turns_left_or_keeps_direction(p0 = next_to_top, p1 = top, p2 = current_point):\n",
    "            top = next_to_top\n",
    "            next_to_top = convex_hull_vertices.pop()\n",
    "\n",
    "        convex_hull_vertices.append(next_to_top)\n",
    "        convex_hull_vertices.append(top)\n",
    "        convex_hull_vertices.append(current_point)\n",
    "\n",
    "    return convex_hull_vertices"
   ]
  },
  {
   "cell_type": "markdown",
   "id": "d51da28b-f6c6-494d-af67-e80c5c0b9328",
   "metadata": {},
   "source": [
    "## Verificação de separabilidade linear\n",
    "Blá blá blá"
   ]
  },
  {
   "cell_type": "markdown",
   "id": "7e060b9a-f232-4e67-a51c-9d4aaf2b47d8",
   "metadata": {},
   "source": [
    "### Detecção de interseções em conjuntos de segmentos\n",
    "Blá blá blá"
   ]
  },
  {
   "cell_type": "code",
   "execution_count": null,
   "id": "1d71c2d0-6d3a-428f-8825-1952145e59eb",
   "metadata": {},
   "outputs": [],
   "source": []
  },
  {
   "cell_type": "markdown",
   "id": "2a3cdd9d-3b02-4eff-899e-4fee4eb1b361",
   "metadata": {},
   "source": [
    "### Definição da separabilidade linear\n",
    "Blá blá blá"
   ]
  },
  {
   "cell_type": "code",
   "execution_count": null,
   "id": "9cef1b9d-c485-44e4-99d0-1b9a21a9868a",
   "metadata": {},
   "outputs": [],
   "source": []
  },
  {
   "cell_type": "markdown",
   "id": "861f665d-c9cb-452a-85e1-d05c5752453c",
   "metadata": {},
   "source": [
    "## Construção do modelo\n",
    "Blá blá blá"
   ]
  },
  {
   "cell_type": "code",
   "execution_count": null,
   "id": "dc02cb60-49fc-4f73-a440-03646da3cfd1",
   "metadata": {},
   "outputs": [],
   "source": []
  },
  {
   "cell_type": "markdown",
   "id": "d11aa8e0-1add-460c-8111-0e5407f9ff44",
   "metadata": {},
   "source": [
    "## Classificador\n",
    "Blá blá blá"
   ]
  },
  {
   "cell_type": "code",
   "execution_count": null,
   "id": "993ea152-96cb-43d3-8bf4-23a6e4cca283",
   "metadata": {},
   "outputs": [],
   "source": []
  },
  {
   "cell_type": "markdown",
   "id": "a9d9d7ee-91ca-4f95-8295-62f411cd56d1",
   "metadata": {},
   "source": [
    "## Representação gráfica da classificação\n",
    "Blá blá blá"
   ]
  },
  {
   "cell_type": "code",
   "execution_count": null,
   "id": "1c4e06d6-35d2-45e2-a871-c116da28c70a",
   "metadata": {},
   "outputs": [],
   "source": []
  },
  {
   "cell_type": "markdown",
   "id": "cf747da7-58f0-4720-833f-0e0fe7354f25",
   "metadata": {},
   "source": [
    "## Metrificação do classificador\n",
    "Blá blá blá"
   ]
  },
  {
   "cell_type": "code",
   "execution_count": null,
   "id": "bdfd9bb1-a512-48bc-b9c0-004ea4654d92",
   "metadata": {},
   "outputs": [],
   "source": []
  },
  {
   "cell_type": "markdown",
   "id": "3343865f-c34c-41a2-88ac-054467169595",
   "metadata": {},
   "source": [
    "# Testes do algoritmo\n",
    "Dizer de onde estão surgindo as fontes de dados, como elas são tratadas e os desafios relacionados a uma classificação eficiente no algoritmo implementado"
   ]
  },
  {
   "cell_type": "markdown",
   "id": "f694ddd2-a71a-497a-ad6e-d0082edf1d8f",
   "metadata": {},
   "source": [
    "## Redutor de dimensionalidade\n",
    "Falar qual foi a estratégia empregada para a redução e como ela deve ser utilizada."
   ]
  },
  {
   "cell_type": "code",
   "execution_count": null,
   "id": "45e230d0-65eb-4438-981c-7447c99c6df0",
   "metadata": {},
   "outputs": [],
   "source": []
  },
  {
   "cell_type": "markdown",
   "id": "58cf5b85-8483-4a4f-bb9a-800993425dbb",
   "metadata": {},
   "source": [
    "## Teste 1 (2D)\n",
    "Dizer como a base foi obtida, comentar o fato de que a dimensionalidade não necessita de tratamento e que isso pode levar a melhores resultados de classificação."
   ]
  },
  {
   "cell_type": "code",
   "execution_count": null,
   "id": "6e8f22fe-6490-493a-bc41-1d00752c47d2",
   "metadata": {},
   "outputs": [],
   "source": []
  },
  {
   "cell_type": "markdown",
   "id": "767534b8-97b2-4de3-98eb-1f6c11650b72",
   "metadata": {},
   "source": [
    "## Teste 2 (2D)\n",
    "Dizer como a base foi obtida, comentar o fato de que a dimensionalidade não necessita de tratamento e que isso pode levar a melhores resultados de classificação."
   ]
  },
  {
   "cell_type": "code",
   "execution_count": null,
   "id": "3bacbe65-6f1a-4cff-af89-4d866e8319dd",
   "metadata": {},
   "outputs": [],
   "source": []
  },
  {
   "cell_type": "markdown",
   "id": "46b0811d-cbf9-4e3a-9f9f-116c6db2874a",
   "metadata": {},
   "source": [
    "## Teste 3 (2D)\n",
    "Dizer como a base foi obtida, comentar o fato de que a dimensionalidade não necessita de tratamento e que isso pode levar a melhores resultados de classificação."
   ]
  },
  {
   "cell_type": "code",
   "execution_count": null,
   "id": "8897cca8-bd89-409b-8ecc-7a9a1b03a481",
   "metadata": {},
   "outputs": [],
   "source": []
  },
  {
   "cell_type": "markdown",
   "id": "e34aeddf-20c8-4334-8247-853a217fc61d",
   "metadata": {},
   "source": [
    "## Teste 4 (3D)\n",
    "Dizer como a base foi obtida, comentar o fato de que a dimensionalidade necessita de tratamento e que isso pode levar a piores resultados de classificação."
   ]
  },
  {
   "cell_type": "code",
   "execution_count": null,
   "id": "377b6acd-cd7f-4859-88c3-ec808a4e5e21",
   "metadata": {},
   "outputs": [],
   "source": []
  },
  {
   "cell_type": "markdown",
   "id": "9e5c2ba6-b56a-42da-baac-4898dd0b3af0",
   "metadata": {},
   "source": [
    "## Teste 5 (3D)\n",
    "Dizer como a base foi obtida, comentar o fato de que a dimensionalidade necessita de tratamento e que isso pode levar a piores resultados de classificação."
   ]
  },
  {
   "cell_type": "code",
   "execution_count": null,
   "id": "d8489caf-6392-4462-a554-b9695e580ef9",
   "metadata": {},
   "outputs": [],
   "source": []
  },
  {
   "cell_type": "markdown",
   "id": "375b50d4-3f61-45a7-8f3c-b00ace0aaa4e",
   "metadata": {},
   "source": [
    "## Teste 6 (XD)\n",
    "Dizer como a base foi obtida, comentar o fato de que a dimensionalidade necessita de tratamento e que isso pode levar a piores resultados de classificação."
   ]
  },
  {
   "cell_type": "code",
   "execution_count": null,
   "id": "6a35d48f-46be-4505-87de-a8481a9742f8",
   "metadata": {},
   "outputs": [],
   "source": []
  },
  {
   "cell_type": "markdown",
   "id": "eb9f1bb4-c388-4301-a907-417c40a999a8",
   "metadata": {},
   "source": [
    "## Teste 7 (XD)\n",
    "Dizer como a base foi obtida, comentar o fato de que a dimensionalidade necessita de tratamento e que isso pode levar a piores resultados de classificação."
   ]
  },
  {
   "cell_type": "code",
   "execution_count": null,
   "id": "e7622fb6-b590-45d2-96ec-1f8d664c91f5",
   "metadata": {},
   "outputs": [],
   "source": []
  },
  {
   "cell_type": "markdown",
   "id": "57ab1f47-5e11-402d-9126-d32b3f918d61",
   "metadata": {},
   "source": [
    "## Teste 8 (XD)\n",
    "Dizer como a base foi obtida, comentar o fato de que a dimensionalidade necessita de tratamento e que isso pode levar a piores resultados de classificação."
   ]
  },
  {
   "cell_type": "code",
   "execution_count": null,
   "id": "81a3afd6-2fad-494a-a345-62df302759c9",
   "metadata": {},
   "outputs": [],
   "source": []
  },
  {
   "cell_type": "markdown",
   "id": "d760cbc7-7bda-4420-aa11-e6080dd8714b",
   "metadata": {},
   "source": [
    "## Teste 9 (XD)\n",
    "Dizer como a base foi obtida, comentar o fato de que a dimensionalidade necessita de tratamento e que isso pode levar a piores resultados de classificação."
   ]
  },
  {
   "cell_type": "code",
   "execution_count": null,
   "id": "baa44b34-26a1-41a3-bffb-7f16b1858c26",
   "metadata": {},
   "outputs": [],
   "source": []
  },
  {
   "cell_type": "markdown",
   "id": "a326d936-51f3-4a31-ba84-1c91b2b0d143",
   "metadata": {},
   "source": [
    "## Teste 10 (XD)\n",
    "Dizer como a base foi obtida, comentar o fato de que a dimensionalidade necessita de tratamento e que isso pode levar a piores resultados de classificação."
   ]
  },
  {
   "cell_type": "code",
   "execution_count": null,
   "id": "210b03f7-4f9c-4c17-b203-2a8b0bcf1527",
   "metadata": {},
   "outputs": [],
   "source": []
  },
  {
   "cell_type": "markdown",
   "id": "a5d16e16-be7a-4004-8c1b-c5895d5990ee",
   "metadata": {},
   "source": [
    "# Conclusão\n",
    "Comentar sobre como o experimento contribuiu para o aprendizado da matéria, como o resultado dos testes foi diferente do ideal, etc..."
   ]
  }
 ],
 "metadata": {
  "kernelspec": {
   "display_name": "Python 3 (ipykernel)",
   "language": "python",
   "name": "python3"
  },
  "language_info": {
   "codemirror_mode": {
    "name": "ipython",
    "version": 3
   },
   "file_extension": ".py",
   "mimetype": "text/x-python",
   "name": "python",
   "nbconvert_exporter": "python",
   "pygments_lexer": "ipython3",
   "version": "3.11.6"
  }
 },
 "nbformat": 4,
 "nbformat_minor": 5
}
