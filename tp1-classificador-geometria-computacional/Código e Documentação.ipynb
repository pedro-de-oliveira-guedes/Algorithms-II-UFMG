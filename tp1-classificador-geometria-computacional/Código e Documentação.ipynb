{
 "cells": [
  {
   "cell_type": "markdown",
   "id": "fead3d51-9f36-472e-9074-5ccc7e567a83",
   "metadata": {},
   "source": [
    "# Trabalho Prático 1\n",
    "## Algoritmos Geométricos\n",
    "**Proposta:** Envoltória Convexa como algoritmo de classificação  \n",
    "**Desenvolvedores:**\n",
    "- Pedro de Oliveira Guedes\n",
    "- Gabriel Bifano Fredi\n",
    "- Tarcísio Augusto Santos Lafaiete"
   ]
  },
  {
   "cell_type": "markdown",
   "id": "3f7e9acf-b1ee-44ff-ae63-9a9a72fd15e9",
   "metadata": {},
   "source": [
    "# Introdução\n",
    "Este trabalho prático tem como motivação a aplicação prática dos algoritmos geométricos estudados durante as aulas de Algoritmos II, buscando a fixação do conhecimento. Para obter essa fixação, o trabalho prático propõe a utilização dos algoritmos estudados para a construção de um classificador de conjuntos de dados bidimensionais.  \n",
    "  \n",
    "Para que o objetivo proposto por este trabalho seja alcançado, será desenvolvida uma série de algoritmos com funções distintas que, quando combinados, tornarão a classificação de pontos em um espaço bidimensional possível, apesar de pouco precisa. Devem ser desenvolvidos algoritmos para os seguintes propósitos:\n",
    "1. Encontrar a envoltória convexa de um conjunto de pontos;\n",
    "2. Determinar se duas envoltórias convexas se cruzam ou se sobrepõem;\n",
    "3. Encontrar uma equação linear que separe duas envoltórias através dos pontos mais próximos entre elas;\n",
    "4. Classificar um conjunto de pontos de acordo com a equação de separabilidade linear obtida.\n",
    "  \n",
    "Após a execução de todos os algoritmos criados para satisfazer os propósitos anteriormente apresentados, a classificação obtida será avaliada de acordo com as métricas de: \"*precisão*\", \"*revocação*\" e \"*f1-escore*\". Para a avaliação dos algoritmos criados, serão utilizados 10 *datasets*, divididos entre 3 *datasets* gerados de forma aleatória e 7 *datasets* do mundo real.  \n",
    "\n",
    "Ao fim da execução deste trabalho, espera-se que o entendimento de algoritmos geométricos obtidos ao longo da disciplina sejam amplificados, tornando o aprendizado mais valioso academicamente e para o mercado de trabalho."
   ]
  },
  {
   "cell_type": "markdown",
   "id": "b5b6b3cb-3f80-46fe-94ba-89970519cb9e",
   "metadata": {},
   "source": [
    "# Implementação\n",
    "Ao longo desta seção, serão apresentadas as implementações feitas para os propósitos apresentados na introdução, juntamente com uma análise do porquê determinada implementação foi escolhida em detrimento de outra, o funcionamento e a complexidade de espaço e tempo da mesma."
   ]
  },
  {
   "cell_type": "markdown",
   "id": "0531f75d-0056-42b5-b2b9-f4ed68776f2c",
   "metadata": {},
   "source": [
    "## Bibliotecas utilizadas\n",
    "As bibliotecas utilizadas para o desenvolvimento do presente projeto serão declaradas na próxima célula de código. Entre elas, estão bibliotecas para aplicação de algoritmos de álgebra linear, facilitação de cálculos matemáticos, melhora na visualização de dados, entre outras. Elas serão brevemente discutidas, apresentando o propósito de utilização, a seguir.\n",
    "  \n",
    "### Display\n",
    "Essa biblioteca tem por objetivo melhorar a visualização dos dados tabelados, fazendo com que eles apareçam formatados na tela, o que nem sempre acontece ao realizar um simples \"*print()*\"  \n",
    "  \n",
    "### Math\n",
    "Essa é a biblioteca padrão do python para operações mais sofisticadas de matemática, como a utilização da função de raiz quadrada \"*sqrt()*\".  \n",
    "\n",
    "### Matplotlib\n",
    "A biblioteca *matplotlib* capacita o programa a fornecer feedback visual dos pontos, funções e envoltórias encontradas ao longo da execução, permitindo uma forte intuição do comportamento do algoritmo, e facilitando o processo de *debug*.\n",
    "  \n",
    "### Numpy\n",
    "A biblioteca *numpy* fornece uma série de facilidades para o manejo e a transformação de vetores, que são usados extensamente no algoritmo.\n",
    "  \n",
    "### Pandas\n",
    "A biblioteca *pandas* é uma escolha padrão para trabalhar com ciência de dados, sendo utilizada ao longo deste projeto para agrupar e tratar os conjuntos de dados na aplicação da classificação sobre eles.  \n",
    "  \n",
    "### Sklearn\n",
    "A biblioteca *sklearn* foi utilizada neste projeto para calcular as métricas de *precisão*, *revocação* e *f1-escore*, além da utilização da função generativa de *datasets* e a importação facilitada de *datasets* reais.  "
   ]
  },
  {
   "cell_type": "code",
   "execution_count": 22,
   "id": "d9606923-262a-4762-b0de-d1b4d2c425ad",
   "metadata": {},
   "outputs": [],
   "source": [
    "from IPython.display import display\n",
    "import math\n",
    "from matplotlib import pyplot as plt\n",
    "import numpy as np\n",
    "import pandas as pd\n",
    "from sklearn import metrics as sk_metrics\n",
    "from sklearn import datasets as sk_datasets"
   ]
  },
  {
   "cell_type": "markdown",
   "id": "916fd99c-74cf-4d67-9cb9-ddde4174550b",
   "metadata": {},
   "source": [
    "## Envoltória convexa\n",
    "O algoritmo escolhido para realizar esta tarefa é o da **Varredura de Graham**, que possui complexidade de tempo *O(n*log n)* e de espaço *O(n)*. Ele foi escolhido em detrimento do algoritmo **Gift Wrapping** proposto por Jarvis, devido à menor complexidade de tempo no pior caso. Como a distribuição dos pontos após a redução de dimensionalidade dos dados é imprevisível, não é possível afirmar para todos os casos que a quantidade de vértices será mínima.\n",
    "  \n",
    "Esse algoritmo funciona fazendo a ordenação dos pontos no espaço bidimensional em relação a um vértice denominado âncora (*O(n log n)*), que é escolhido como sendo o que possui menor coordenada Y, utilizando a menor coordenada X como critério de desempate.  \n",
    "  \n",
    "Após o encontro do âncora e a ordenação dos pontos, o algoritmo itera por cada um dos vértices verificando se eles devem ou não ser incluídos como vértices da envoltória (*O(n)*), ou se eles já fazem parte como ponto interno da mesma. Para verificar se um ponto *p3* será ou não incluído como vértice do polígono, é averiguada a direção do giro feito pelo segmento *p2 -> p3* em relação a *p1 -> p2*.  \n",
    "  \n",
    "Caso o giro à esquerda, o ponto p3 é incluído como vértice da envoltória. Caso contrário, o ponto *p2* é descartado e a mesma verificação é feita para o segmento *p1 -> p3* em relação a *p0 -> p1*."
   ]
  },
  {
   "cell_type": "markdown",
   "id": "74a15a11-75f1-4341-b8c8-e46ace6c0aba",
   "metadata": {},
   "source": [
    "### Critério de comparação\n",
    "Para realizar a comparação entre dois pontos distintos, foi criada a estrutura de dados denominada *Vertex*, que armazena o vértice atual e o âncora a partir de qual todos os vértices foram normalizados. A partir dessa definição, o método de comparaçõ \"*<*\" foi sobrescrito, tornando possível a comparação entre dois membros da mesma classe \"*Vertex*\" e, consequentemente, a ordenação desses elementos.  \n",
    "\n",
    "A decisão de um vértice ser menor do que outro é feita de acordo com a função \"*turns_left(p0, p1, p2)*\", que verifica através de álgebra linear se o segmento formado por *p1 -> p2* faz um giro à esquerda em relação a *p0 -> p1*, retornando verdadeiro, caso positivo."
   ]
  },
  {
   "cell_type": "code",
   "execution_count": 23,
   "id": "fac9f525-6f0e-4bb9-b7f9-5bf2791a3457",
   "metadata": {},
   "outputs": [],
   "source": [
    "def turns_left(p0: tuple, p1: tuple, p2: tuple):\n",
    "    matrix = np.array([\n",
    "            [(p1[0] - p0[0]), (p1[1] - p0[1])],\n",
    "            [(p2[0] - p0[0]), (p2[1] - p0[1])]\n",
    "        ])\n",
    "    return np.linalg.det(matrix) < 0.0\n",
    "\n",
    "class Vertex:\n",
    "    def __init__(self, anchor: tuple, point: tuple):\n",
    "        self.anchor = anchor\n",
    "        self.point = point\n",
    "\n",
    "    def __repr__(self):\n",
    "        return f'({self.point[0]}, {self.point[1]})'\n",
    "\n",
    "    def __lt__(self, other):\n",
    "        return turns_left(p0 = self.anchor, p1 = self.point, p2 = other.point)"
   ]
  },
  {
   "cell_type": "markdown",
   "id": "28106b5e-e24e-4204-a16d-416ff814d635",
   "metadata": {},
   "source": [
    "### Encontrando o âncora\n",
    "Para encontrar o vértice âncora do conjunto, o algoritmo assumirá que o primeiro ponto é o âncora inicialmente. Após isso, será iterado pelos outros vértices do conjunto, verificando se o atual âncora está acima do atual vértice comparado.  \n",
    "  \n",
    "Caso ele esteja, o atual vértice vira o novo âncora. Caso ambos estejam em uma mesma coordenada Y, então o que possuir a menor coordenada X será considerado âncora.  \n",
    "  \n",
    "Dessa forma, o seguinte algoritmo possui complexidade de tempo *O(n)*, por iterar pelos *n* vértices disponíveis e espaço *O(n)* já que não cria nenhuma estrutura auxiliar para a busca."
   ]
  },
  {
   "cell_type": "code",
   "execution_count": 25,
   "id": "67236913-bf6e-41ca-b7b9-f13c4f0f84c2",
   "metadata": {},
   "outputs": [],
   "source": [
    "def find_anchor(point_set: list[tuple]) -> tuple:\n",
    "    current_anchor = point_set[0]\n",
    "\n",
    "    for curr_point in point_set[1:]:\n",
    "        if curr_point[1] < current_anchor[1]: # Comparando Y\n",
    "            current_anchor = curr_point\n",
    "        if curr_point[1] == current_anchor[1]:\n",
    "            current_anchor = curr_point if curr_point[0] < current_anchor[0] else current_anchor # Comparando X no caso de empate\n",
    "\n",
    "    return current_anchor"
   ]
  },
  {
   "cell_type": "markdown",
   "id": "ea68b1f3-affb-4085-97b9-081409c0cc64",
   "metadata": {},
   "source": [
    "### Ordenando os segmentos\n",
    "A ordenação dos segmentos será baseada no critério de comparação definido anteriormente.  \n",
    "\n",
    "Para isso, o âncora será removido do conjunto inicialmente e readicionado ao fim. Para que a ordenação ocorra de forma facilitada, os elementos do conjunto serão transformados no tipo **Vertix** definido acima."
   ]
  },
  {
   "cell_type": "code",
   "execution_count": 4,
   "id": "55fc0861-a95d-49d3-bfae-ad5c9e391d83",
   "metadata": {},
   "outputs": [],
   "source": [
    "def sort_points_set(anchor: tuple, points_set: list[tuple]) -> list[tuple]:\n",
    "    points_set.remove(anchor)\n",
    "\n",
    "    vertix_set = [Vertix(anchor, (point[0], point[1])) for point in points_set]\n",
    "\n",
    "    vertix_set.sort()\n",
    "\n",
    "    sorted_points = [vertix.point for vertix in vertix_set]\n",
    "\n",
    "    return sorted_points.insert(0, anchor)"
   ]
  },
  {
   "cell_type": "markdown",
   "id": "533fb0ed-1632-4890-9fae-d66f3b9625c7",
   "metadata": {},
   "source": [
    "### Algoritmo final\n",
    "Após as definições anteriores, o algoritmo final pode ser montado de acordo com o funcionamento que foi descrito no texto da seção **Envoltória Convexa**."
   ]
  },
  {
   "cell_type": "code",
   "execution_count": 5,
   "id": "54efda1c-fcd5-496e-a913-c3fcce7b5c8d",
   "metadata": {},
   "outputs": [],
   "source": [
    "def graham_scan(points_set: list[tuple]) -> list[tuple]:\n",
    "    anchor = find_anchor(point_set = points_set)\n",
    "    \n",
    "    sorted_points = sort_points_set(anchor = anchor, points_set = points_set)\n",
    "\n",
    "    convex_hull_vertices = [point for point in sorted_points[:3]]\n",
    "\n",
    "    for current_point in sorted_points[3:]:\n",
    "        top = convex_hull_vertices.pop()\n",
    "        next_to_top = convex_hull_vertices.pop()\n",
    "        \n",
    "        while not turns_left_or_keeps_direction(p0 = next_to_top, p1 = top, p2 = current_point):\n",
    "            top = next_to_top\n",
    "            next_to_top = convex_hull_vertices.pop()\n",
    "\n",
    "        convex_hull_vertices.append(next_to_top)\n",
    "        convex_hull_vertices.append(top)\n",
    "        convex_hull_vertices.append(current_point)\n",
    "\n",
    "    return convex_hull_vertices"
   ]
  },
  {
   "cell_type": "markdown",
   "id": "d51da28b-f6c6-494d-af67-e80c5c0b9328",
   "metadata": {},
   "source": [
    "## Verificação de separabilidade linear\n",
    "Somente encontrar a envoltória convexa para as diferentes classes dos dados não é suficiente, visto que, eventualmente, essas classes podem se sobrepor no espaço bidimensional, comprometendo a classificação posterior dos pontos.  \n",
    "\n",
    "Dessa forma, será empregado o algoritmo de **varredura linear** para verificar se há interseção entre os segmentos das envoltórias convexas. Caso haja essa interseção, isso significa que não há separação linear para os dados estudados. Caso contrário, os dados podem ser separados linearmente.  \n",
    "\n",
    "Para que a varredura linear funcione corretamente, será necessário definir algumas estruturas de dados e funções auxiliares, como:\n",
    "1. **Mapas de origem e destino:** Essas estruturas facilitarão na identificação dos vértices que são origem de determinado segmento e os que são o destino, atribuindo o estado de \"*origem*\" àqueles vértices com menor coordenada X.\n",
    "2. **Vértices da envoltória:** Essa estrutura armazena as coordenadas dos vértices da envoltória, definindo o método de comparação baseado na coordenada X, para facilitar o processo de ordenação.\n",
    "3. **Ordenação dos pontos da envoltória:** Essa será uma função auxiliar para o processo de ordenação, removendo esta responsabilidade do algoritmo final.\n",
    "4. **Segmentos de reta:** Como a ordenação da árvore binária balanceada é baseada na coordenada Y em que a reta de varredura intercepta o segmento, será criada uma estrutura específica para esta aplicação, definindo corretamente o método de comparação.\n",
    "5. **Árvore binária balanceada:** Essa estrutura é necessária para o funcionamento correto da varredura linear, já que ela é utilizada para conferir quando os segmentos estão acima ou abaixo uns dos outros.\n",
    "6. **Verificação de interseção entre duas retas:** Essa função com complexidade de tempo *O(1)* será a responsável por verificar as interseções entre os pares de segmentos evidenciados durante a varredura linear."
   ]
  },
  {
   "cell_type": "markdown",
   "id": "98e85b9b-2d20-4387-b048-512702e8ef54",
   "metadata": {},
   "source": [
    "### Mapas de origem e destino\n",
    "A função iterará pelos vértices da envoltória convexa, analisando os vértices par a par e atribuindo-os aos dicionários de origem e destino. Isso facilitará a identificação dos mesmos durante a varredura."
   ]
  },
  {
   "cell_type": "code",
   "execution_count": 6,
   "id": "53353ce2-3912-4199-b07b-922b8d17224a",
   "metadata": {},
   "outputs": [],
   "source": [
    "def get_destines_and_origins_maps(vertices: list[tuple]) -> tuple:\n",
    "    destines = {vertix: [] for vertix in vertices}\n",
    "    origins = {vertix: [] for vertix in vertices}\n",
    "    for index in range(0, len(vertices)):\n",
    "        a = vertices[index]\n",
    "        b = vertices[(index + 1) % len(vertices)]\n",
    "        if a[0] < b[0]:\n",
    "            destines[a].append(b)\n",
    "            origins[b].append(a)\n",
    "        else:\n",
    "            destines[b].append(a)\n",
    "            origins[a].append(b)\n",
    "\n",
    "    return (destines, origins)"
   ]
  },
  {
   "cell_type": "markdown",
   "id": "2eea02b6-f051-41e6-86e4-21e3890a4021",
   "metadata": {},
   "source": [
    "#### Testes\n",
    "Testando função implementada."
   ]
  },
  {
   "cell_type": "code",
   "execution_count": 7,
   "id": "318a6b71-ec06-4d4a-848d-08a35ec74016",
   "metadata": {},
   "outputs": [
    {
     "name": "stdout",
     "output_type": "stream",
     "text": [
      "Origens: {(1, 1): [(0, 2)], (2, 2): [(1, 1), (1, 3)], (1, 3): [(0, 2)], (0, 2): []}\n",
      "Destinos: {(1, 1): [(2, 2)], (2, 2): [], (1, 3): [(2, 2)], (0, 2): [(1, 3), (1, 1)]}\n"
     ]
    }
   ],
   "source": [
    "test = [(1, 1), (2, 2), (1, 3), (0, 2)]\n",
    "d, o = get_destines_and_origins_maps(test)\n",
    "print(f'Origens: {o}')\n",
    "print(f'Destinos: {d}')"
   ]
  },
  {
   "cell_type": "markdown",
   "id": "abbf3c93-21b0-4d9c-898a-74e884ff1675",
   "metadata": {
    "jp-MarkdownHeadingCollapsed": true
   },
   "source": [
    "### Vértices da envoltória\n",
    "Essa estrutura armazena a coordenada X e Y do ponto, comparando-o com outros pontos de acordo com a coordenada X da origem do mesmo, quebrando empates pela coordenada X do ponto de destino e quebrando um último empate posicionando os pontos com coordenadas Y menores primeiro."
   ]
  },
  {
   "cell_type": "code",
   "execution_count": 8,
   "id": "e0e49fb5-2aef-447c-a228-d0824b3946ed",
   "metadata": {},
   "outputs": [],
   "source": [
    "class Vertix:\n",
    "    def __init__(self, x: float, y: float):\n",
    "        self.x = x\n",
    "        self.y = y\n",
    "\n",
    "    def __repr__(self):\n",
    "        return f'[{self.is_destine}]({self.x}, {self.y})'\n",
    "\n",
    "    def __lt__(self, other):\n",
    "        if self.x < other.x:\n",
    "            return True\n",
    "        if self.x == other.x:\n",
    "            return self.y < other.y\n",
    "        return False\n",
    "\n",
    "    def __eq__(self, other):\n",
    "        return self.x == other.x and self.y == other.y"
   ]
  },
  {
   "cell_type": "markdown",
   "id": "85c420b6-f611-4267-90c1-6d8f5a8eed09",
   "metadata": {
    "jp-MarkdownHeadingCollapsed": true
   },
   "source": [
    "### Ordenação dos pontos da envoltória\n",
    "Essa função receberá a lista de pontos, realizará a conversão para a estrutura criada para armazenamento dos vérties, os ordenará e devolverá os pontos no mesmo formato em que foram recebidos."
   ]
  },
  {
   "cell_type": "code",
   "execution_count": 9,
   "id": "47ccefd0-c7bc-4764-a5df-358037e98a25",
   "metadata": {},
   "outputs": [],
   "source": [
    "def sort_vertices(vertices: list[tuple]) -> list[tuple]:\n",
    "    aux_list = []\n",
    "    for index in range(0, len(vertices)):\n",
    "        a = vertices[index]\n",
    "        b = vertices[(index + 1) % len(vertices)]\n",
    "        aux_list.append( Vertix(a[0], a[1]) )\n",
    "    aux_list.sort()\n",
    "\n",
    "    final_list = []\n",
    "    for vertix in aux_list:\n",
    "        final_list.append( (vertix.x, vertix.y) )\n",
    "    return final_list"
   ]
  },
  {
   "cell_type": "markdown",
   "id": "622ed1b6-0a22-42cb-8dac-31a3f48cb793",
   "metadata": {},
   "source": [
    "#### Testes\n",
    "Verificando o funcionamento da função implementada."
   ]
  },
  {
   "cell_type": "code",
   "execution_count": 10,
   "id": "0060d61d-2fb9-4041-8be1-e0e7c6e5bf01",
   "metadata": {},
   "outputs": [
    {
     "name": "stdout",
     "output_type": "stream",
     "text": [
      "[(0, 2), (1, 1), (1, 3), (2, 2)]\n"
     ]
    }
   ],
   "source": [
    "test = [(1, 1), (2, 2), (1, 3), (0, 2)]\n",
    "\n",
    "print(sort_vertices(test))"
   ]
  },
  {
   "cell_type": "markdown",
   "id": "4a07dd14-8786-44fe-a1a0-bb33a9a60a37",
   "metadata": {},
   "source": [
    "### Nós da árvore binária balanceada\n",
    "Para essa estrutura, será necessário armazenar quatro elementos principais, que facilitarão as computações seguintes:\n",
    "- Identificador da envoltória\n",
    "    - Como os vértices de uma mesma envoltória se tocam, eles não podem ser considerados como interseção. Esse identificador ajuda a prevenir o problema.\n",
    "- Ponto de origem do segmento\n",
    "- Ponto de fim do segmento\n",
    "- Coeficiente angular da equação da reta\n",
    "- Constante da equação da reta\n",
    "\n",
    "Note que os segmentos serão ordenados na árvore binária de acordo o valor de Y em que a reta de varredura intercepta o dado segmento. Tal valor é calculado a partir da coordenada X recebida, que é a posição atual da reta de varredura."
   ]
  },
  {
   "cell_type": "code",
   "execution_count": 11,
   "id": "b6ff6408-0d5e-4d4d-93b3-9a57a5fe7572",
   "metadata": {},
   "outputs": [],
   "source": [
    "class SegmentNode:\n",
    "    RED = True\n",
    "    BLACK = False\n",
    "\n",
    "    def __init__(self, origin: tuple, destine: tuple, hull_id: int, color = RED, alpha = 0.01):\n",
    "        self.color = color\n",
    "        self.left = self.right = self.parent = NullSegmentNode.instance()\n",
    "\n",
    "        self.hull_id = hull_id\n",
    "        self.origin = origin\n",
    "        # É provocada uma pequena perturbação na coordenada X do destino caso ela seja igual à da origem, evitando segmentos puramente verticais\n",
    "        self.destine = destine if destine[0] != origin[0] else (destine[0] + alpha, destine[1])\n",
    "\n",
    "        self.slope = (destine[1] - origin[1])/(destine[0] - origin[0]) # Coeficiente angular (m)\n",
    "        self.constant = destine[1] - self.slope * destine[0] # Constante da reta (b = y - mx)\n",
    "\n",
    "    def __str__(self, level = 0, indent = \"   \"):\n",
    "        s = level * indent + str(self.origin) + \" --> \" + str(self.destine)\n",
    "        if self.left:\n",
    "          s = s + \"\\n\" + self.left.__str__(level + 1, indent)\n",
    "        if self.right:\n",
    "          s = s + \"\\n\" + self.right.__str__(level + 1, indent)\n",
    "        return s\n",
    "\n",
    "    def get_y_intercetp_coord(self, sweep_x: float) -> float:\n",
    "        return self.slope * sweep_x + self.constant\n",
    "\n",
    "    def __nonzero__(self):\n",
    "        return True\n",
    "\n",
    "    def __bool__(self):\n",
    "        return True\n",
    "\n",
    "\n",
    "\n",
    "class NullSegmentNode(SegmentNode):\n",
    "    __instance__ = None\n",
    "\n",
    "    @classmethod\n",
    "    def instance(self):\n",
    "        if self.__instance__ is None:\n",
    "            self.__instance__ = NullSegmentNode()\n",
    "        return self.__instance__\n",
    "\n",
    "    def __init__(self):\n",
    "        self.color = SegmentNode.BLACK\n",
    "        self.hull_id = self.origin = self.destine = self.slope = self.constant = None\n",
    "        self.left = self.right = self.parent = None\n",
    "\n",
    "    def __nonzero__(self):\n",
    "        return False\n",
    "\n",
    "    def __bool__(self):\n",
    "        return False"
   ]
  },
  {
   "cell_type": "markdown",
   "id": "1e4f0101-d881-47ae-966e-df100bbda776",
   "metadata": {},
   "source": [
    "### Árvore binária balanceada\n",
    "**Referência:** https://github.com/headius/redblack/tree/master"
   ]
  },
  {
   "cell_type": "code",
   "execution_count": 12,
   "id": "66574375-6c7a-4d82-ab0d-9b3a83b149d1",
   "metadata": {},
   "outputs": [],
   "source": [
    "class RedBlackTree:\n",
    "    def __init__(self):\n",
    "        self.root = NullSegmentNode.instance()\n",
    "        self.size = 0\n",
    "\n",
    "    def __str__(self):\n",
    "        return str(self.root)\n",
    "\n",
    "    def add(self, origin: tuple, destine: tuple, hull_id: int):\n",
    "        self.insert(SegmentNode(origin, destine, hull_id))\n",
    "\n",
    "    def insert(self, node: SegmentNode):\n",
    "        self.__insert_helper(node)\n",
    "\n",
    "        node.color = SegmentNode.RED\n",
    "        while node != self.root and node.parent.color == SegmentNode.RED:\n",
    "            if node.parent == node.parent.parent.left: # Verifica se o pai do nó atual está à esquerda do avô\n",
    "                aux = node.parent.parent.right\n",
    "                if aux and aux.color == SegmentNode.RED:\n",
    "                    node.parent.color = SegmentNode.BLACK\n",
    "                    aux.color = SegmentNode.BLACK\n",
    "                    node.parent.parent.color = SegmentNode.RED\n",
    "                    node = node.parent.parent\n",
    "                else:\n",
    "                    if node == node.parent.right:\n",
    "                        node = node.parent\n",
    "                        self.__left_rotate(node)\n",
    "                    node.parent.color = SegmentNode.BLACK\n",
    "                    node.parent.parent.color = SegmentNode.RED\n",
    "                    self.__right_rotate(node.parent.parent)\n",
    "            else:\n",
    "                aux = node.parent.parent.left\n",
    "                if aux and aux.color == SegmentNode.RED:\n",
    "                    node.parent.color = SegmentNode.BLACK\n",
    "                    aux.color = SegmentNode.BLACK\n",
    "                    node.parent.parent.color = SegmentNode.RED\n",
    "                    node = node.parent.parent\n",
    "                else:\n",
    "                    if node == node.parent.left:\n",
    "                        node = node.parent\n",
    "                        self.__right_rotate(node)\n",
    "                    node.parent.color = SegmentNode.BLACK\n",
    "                    node.parent.parent.color = SegmentNode.RED\n",
    "                    self.__left_rotate(node.parent.parent)\n",
    "        self.root.color = SegmentNode.BLACK\n",
    "\n",
    "\n",
    "    def __insert_helper(self, node: SegmentNode):\n",
    "        sweep_x = node.origin[0]\n",
    "\n",
    "        aux = NullSegmentNode.instance()\n",
    "        tree_root = self.root\n",
    "        while tree_root: # Buscando um nó à esquerda ou à direita que esteja vazio para posicionar o novo elemento\n",
    "          aux = tree_root\n",
    "          if node.get_y_intercetp_coord(sweep_x) < tree_root.get_y_intercetp_coord(sweep_x):\n",
    "            tree_root = tree_root.left # Elemento será inserido à esquerda da raiz anterior\n",
    "          else:\n",
    "            tree_root = tree_root.right # Elemento será inserido à direita da raiz anterior\n",
    "\n",
    "        node.parent = aux # Definindo o pai do nó a ser inserido\n",
    "        if not aux:\n",
    "          self.root = node # Caso em que a árvore está vazia\n",
    "        else:\n",
    "          if node.get_y_intercetp_coord(sweep_x) < aux.get_y_intercetp_coord(sweep_x):\n",
    "            aux.left = node # Nó a ser inserido está à esquerda do pai\n",
    "          else:\n",
    "            aux.right = node # Nó a ser inserido está à direita do pai\n",
    "\n",
    "        self.size += 1\n",
    "\n",
    "    def __left_rotate(self, node: SegmentNode):\n",
    "        if not node.right:\n",
    "            raise \"node.right is null!\"\n",
    "        aux = node.right\n",
    "        node.right = aux.left\n",
    "        if aux.left:\n",
    "            aux.left.parent = node\n",
    "        aux.parent = node.parent\n",
    "        if not node.parent:\n",
    "            self.root = aux\n",
    "        else:\n",
    "            if node == node.parent.left:\n",
    "                node.parent.left = aux\n",
    "            else:\n",
    "                node.parent.right = aux\n",
    "        aux.left = node\n",
    "        node.parent = aux\n",
    "\n",
    "    def __right_rotate(self, node: SegmentNode):\n",
    "        if not node.left:\n",
    "            raise \"node.left is null!\"\n",
    "        aux = node.left\n",
    "        node.left = aux.right\n",
    "        if aux.right:\n",
    "            aux.right.parent = node\n",
    "        aux.parent = node.parent\n",
    "        if not node.parent:\n",
    "            self.root = aux\n",
    "        else:\n",
    "            if node == node.parent.left:\n",
    "                node.parent.left = aux\n",
    "            else:\n",
    "                node.parent.right = aux\n",
    "        aux.right = node\n",
    "        node.parent = aux\n",
    "\n",
    "    def search_segment(self, sweep_x: float, target_y: float, origin: tuple, destine: tuple) -> SegmentNode:\n",
    "        root = self.root\n",
    "        while root:\n",
    "            if root.get_y_intercetp_coord(sweep_x) != target_y:\n",
    "                if root.get_y_intercetp_coord(sweep_x) < target_y:\n",
    "                    root = root.right\n",
    "                else:\n",
    "                    root = root.left\n",
    "            else:\n",
    "                if root.origin != origin or root.destine != destine:\n",
    "                    if root.left and root.left.get_y_intercetp_coord(sweep_x) == target_y:\n",
    "                        return root.left\n",
    "                    elif root.right and root.right.get_y_intercetp_coord(sweep_x) == target_y:\n",
    "                        return root.right\n",
    "                    else:\n",
    "                        return NullSegmentNode.instance()\n",
    "                else:\n",
    "                    return root\n",
    "        return root\n",
    "\n",
    "    def remove(self, node: SegmentNode):\n",
    "        if not node:\n",
    "            return\n",
    "        if not node.left or not node.right:\n",
    "            aux1 = node\n",
    "        else:\n",
    "            aux1 = self.successor(node)\n",
    "\n",
    "        if not aux1.left:\n",
    "            aux2 = aux1.right\n",
    "        else:\n",
    "            aux2 = aux1.left\n",
    "        aux2.parent = aux1.parent\n",
    "\n",
    "        if not aux1.parent:\n",
    "            self.root = aux2\n",
    "        else:\n",
    "            if aux1 == aux1.parent.left:\n",
    "                aux1.parent.left = aux2\n",
    "            else:\n",
    "                aux1.parent.right = aux2\n",
    "\n",
    "        if aux1 != node:\n",
    "            node.origin = aux1.origin\n",
    "            node.destine = aux1.destine\n",
    "            node.slope = aux1.slope\n",
    "            node.constant = aux1.constant\n",
    "\n",
    "        if aux1.color == SegmentNode.BLACK:\n",
    "            self.__delete_fixup(aux2)\n",
    "\n",
    "        self.size -= 1\n",
    "        return aux1\n",
    "\n",
    "    def successor(self, node: SegmentNode):\n",
    "        if node.right:\n",
    "            return self.minimum(node.right)\n",
    "        aux = node.parent\n",
    "        while aux and node == aux.right:\n",
    "            node = aux\n",
    "            aux = aux.parent\n",
    "        return aux\n",
    "\n",
    "    def minimum(self, node: SegmentNode = None):\n",
    "        if not node:\n",
    "            node = self.root\n",
    "        while node.left:\n",
    "            node = node.left\n",
    "        return node\n",
    "\n",
    "    def predecesor(self, node: SegmentNode):\n",
    "        if node.left:\n",
    "            return self.maximum(node.left)\n",
    "        aux = node.parent\n",
    "        while aux and node == aux.left:\n",
    "            node = aux\n",
    "            aux = aux.parent\n",
    "        return aux\n",
    "\n",
    "    def maximum(self, node: SegmentNode = None):\n",
    "        if not node:\n",
    "            node = self.root\n",
    "        while node.right:\n",
    "            node = node.right\n",
    "        return node\n",
    "\n",
    "    def __delete_fixup(self, node: SegmentNode):\n",
    "        while node != self.root and node.color == SegmentNode.BLACK:\n",
    "            if node == node.parent.left:\n",
    "                aux = node.parent.right\n",
    "                if aux.color == SegmentNode.RED:\n",
    "                    aux.color = SegmentNode.BLACK\n",
    "                    node.parent.color = SegmentNode.RED\n",
    "                    self.__left_rotate(node.parent)\n",
    "                    aux = node.parent.right\n",
    "                if aux.left.color == SegmentNode.BLACK and aux.right.color == SegmentNode.BLACK:\n",
    "                    aux.color = SegmentNode.RED\n",
    "                    node = node.parent\n",
    "                else:\n",
    "                    if aux.right.color == SegmentNode.BLACK:\n",
    "                        aux.left.color = SegmentNode.BLACK\n",
    "                        aux.color = SegmentNode.RED\n",
    "                        self.__right_rotate(aux)\n",
    "                        aux = node.parent.right\n",
    "                    aux.color = node.parent.color\n",
    "                    node.parent.color = SegmentNode.BLACK\n",
    "                    aux.right.color = SegmentNode.BLACK\n",
    "                    self.__left_rotate(node.parent)\n",
    "                    node = self.root\n",
    "            else:\n",
    "                aux = node.parent.left\n",
    "                if aux.color == SegmentNode.RED:\n",
    "                    aux.color = SegmentNode.BLACK\n",
    "                    node.parent.color = SegmentNode.RED\n",
    "                    self.__right_rotate(node.parent)\n",
    "                    aux = node.parent.left\n",
    "                if aux.right.color == SegmentNode.BLACK and aux.left.color == SegmentNode.BLACK:\n",
    "                    aux.color = SegmentNode.RED\n",
    "                    node = node.parent\n",
    "                else:\n",
    "                    if aux.left.color == SegmentNode.BLACK:\n",
    "                        aux.right.color = SegmentNode.BLACK\n",
    "                        aux.color = SegmentNode.RED\n",
    "                        self.__left_rotate(aux)\n",
    "                        aux = node.parent.left\n",
    "                    aux.color = node.parent.color\n",
    "                    node.parent.color = SegmentNode.BLACK\n",
    "                    aux.left.color = SegmentNode.BLACK\n",
    "                    self.__right_rotate(node.parent)\n",
    "                    node = self.root\n",
    "\n",
    "        node.color = SegmentNode.BLACK"
   ]
  },
  {
   "cell_type": "markdown",
   "id": "bccd5412-ee98-42ed-9390-f5831662a180",
   "metadata": {},
   "source": [
    "#### Testando a árvore binária balanceada\n",
    "Ao longo do desenvolvimento da árvore binária balanceada, foram realizados alguns testes para verificar sua corretude. Os testes e seus resultados podem ser encontrados na célula de código abaixo."
   ]
  },
  {
   "cell_type": "code",
   "execution_count": 17,
   "id": "da09636a-c90c-4274-a05b-3853e1dae79e",
   "metadata": {},
   "outputs": [
    {
     "name": "stdout",
     "output_type": "stream",
     "text": [
      "====== Impressão inicial =====\n",
      "None\n",
      "\n",
      "\n",
      "\n",
      "\n",
      "\n",
      "====== Árvore completa =====\n",
      "(1, 1) --> (2, 2)\n",
      "   (0, 2) --> (1, 1)\n",
      "   (0, 2) --> (1, 3)\n",
      "      (1, 3) --> (2, 2)\n",
      "\n",
      "\n",
      "\n",
      "\n",
      "\n",
      "====== Segmento '(1, 1) --> (2, 2)' que é a raiz da árvore =====\n",
      "(1, 1) --> (2, 2)\n",
      "   (0, 2) --> (1, 1)\n",
      "   (0, 2) --> (1, 3)\n",
      "      (1, 3) --> (2, 2)\n",
      "\n",
      "\n",
      "\n",
      "\n",
      "\n",
      "====== Antecessor do Segmento '(1, 1) --> (2, 2)' =====\n",
      "(0, 2) --> (1, 1)\n",
      "\n",
      "\n",
      "\n",
      "\n",
      "\n",
      "====== Segmento '(0, 2) --> (1, 1)' =====\n",
      "None --> None\n",
      "\n",
      "\n",
      "\n",
      "\n",
      "\n",
      "====== Antecessor do Segmento '(0, 2) --> (1, 1)' =====\n",
      "None --> None\n",
      "\n",
      "\n",
      "\n",
      "\n",
      "\n",
      "====== Sucessor do Segmento '(0, 2) --> (1, 1)' =====\n",
      "(0, 2) --> (1, 3)\n",
      "   (1, 1) --> (2, 2)\n",
      "   (1, 3) --> (2, 2)\n",
      "\n",
      "\n",
      "\n",
      "\n",
      "\n",
      "====== Árvore completa após a remoção do antecessor da raiz '(0, 2) --> (1, 1)' =====\n",
      "(0, 2) --> (1, 3)\n",
      "   (1, 1) --> (2, 2)\n",
      "   (1, 3) --> (2, 2)\n"
     ]
    }
   ],
   "source": [
    "test = None\n",
    "print(\"====== Impressão inicial =====\")\n",
    "print(test)\n",
    "print(\"\\n\\n\\n\\n\")\n",
    "\n",
    "test = RedBlackTree()\n",
    "test.add((0, 2), (1, 1), 1) # d\n",
    "test.add((0, 2), (1, 3), 1) # c\n",
    "test.add((1, 1), (2, 2), 1) # a\n",
    "test.add((1, 3), (2, 2), 1) # b\n",
    "\n",
    "print(\"====== Árvore completa =====\")\n",
    "print(test)\n",
    "print(\"\\n\\n\\n\\n\")\n",
    "print(\"====== Segmento '(1, 1) --> (2, 2)' que é a raiz da árvore =====\")\n",
    "print(test.search_segment(sweep_x=1, target_y=1, origin=(1, 1), destine=(2, 2)))\n",
    "print(\"\\n\\n\\n\\n\")\n",
    "print(\"====== Antecessor do Segmento '(1, 1) --> (2, 2)' =====\")\n",
    "print(test.predecesor( test.search_segment(sweep_x=1, target_y=1, origin=(1,1), destine=(2,2)) ))\n",
    "print(\"\\n\\n\\n\\n\")\n",
    "print(\"====== Segmento '(0, 2) --> (1, 1)' =====\")\n",
    "print( test.search_segment(sweep_x=0, target_y=2, origin=(0,2), destine=(1,1)) )\n",
    "print(\"\\n\\n\\n\\n\")\n",
    "print(\"====== Antecessor do Segmento '(0, 2) --> (1, 1)' =====\")\n",
    "print(test.predecesor( test.search_segment(sweep_x=0, target_y=2, origin=(0,2), destine=(1,1)) ))\n",
    "print(\"\\n\\n\\n\\n\")\n",
    "print(\"====== Sucessor do Segmento '(0, 2) --> (1, 1)' =====\")\n",
    "print(test.successor( test.search_segment(sweep_x=0, target_y=2, origin=(0,2), destine=(1,1)) ))\n",
    "print(\"\\n\\n\\n\\n\")\n",
    "\n",
    "test.remove(test.predecesor( test.search_segment(sweep_x=1, target_y=1, origin=(1,1), destine=(2,2)) ))\n",
    "test.remove(NullSegmentNode.instance())\n",
    "print(\"====== Árvore completa após a remoção do antecessor da raiz '(0, 2) --> (1, 1)' =====\")\n",
    "print(test)"
   ]
  },
  {
   "cell_type": "markdown",
   "id": "7e060b9a-f232-4e67-a51c-9d4aaf2b47d8",
   "metadata": {},
   "source": [
    "### Verificação de interseção entre duas retas\n",
    "Blá blá blá"
   ]
  },
  {
   "cell_type": "code",
   "execution_count": 14,
   "id": "1d71c2d0-6d3a-428f-8825-1952145e59eb",
   "metadata": {},
   "outputs": [],
   "source": [
    "def direction(p0: tuple, p1: tuple, p2: tuple) -> float:\n",
    "    matrix = np.array([\n",
    "            [(p1[0] - p0[0]), (p1[1] - p0[1])],\n",
    "            [(p2[0] - p0[0]), (p2[1] - p0[1])]\n",
    "        ])\n",
    "    return np.linalg.det(matrix)\n",
    "\n",
    "def in_segment_bounds(origin: tuple, destine: tuple, target: tuple) -> bool:\n",
    "    in_x_bounds = (target[0] >= origin[0] and target[0] <= destine[0])\n",
    "    in_y_bounds = (target[1] >= origin[1] and target[1] <= destine[1])\n",
    "\n",
    "    return in_x_bounds and in_y_bounds\n",
    "\n",
    "def segments_intersect(s1: SegmentNode, s2: SegmentNode) -> bool:\n",
    "    if not s1 or not s2:\n",
    "        return False\n",
    "    \n",
    "    if s1.hull_id == s2.hull_id:\n",
    "        return False\n",
    "    \n",
    "    d1 = direction(s1.origin, s1.destine, s2.origin)\n",
    "    d2 = direction(s1.origin, s1.destine, s2.destine)\n",
    "    d3 = direction(s2.origin, s2.destine, s1.origin)\n",
    "    d4 = direction(s2.origin, s2.destine, s1.destine)\n",
    "\n",
    "    if ( (d1 > 0 and d2 < 0) or (d1 < 0 and d2 > 0) ) and ( (d3 > 0 and d4 < 0) or (d3 < 0 and d4 > 0) ):\n",
    "        return True\n",
    "    elif d1 == 0 and in_segment_bounds(s1.origin, s1.destine, s2.origin):\n",
    "        return True\n",
    "    elif d2 == 0 and in_segment_bounds(s1.origin, s1.destine, s2.destine):\n",
    "        return True\n",
    "    elif d3 == 0 and in_segment_bounds(s2.origin, s2.destine, s1.origin):\n",
    "        return True\n",
    "    elif d4 == 0 and in_segment_bounds(s2.origin, s2.destine, s1.destine):\n",
    "        return True\n",
    "    else:\n",
    "        return False"
   ]
  },
  {
   "cell_type": "markdown",
   "id": "4c60da38-ab8c-45a8-8f01-aeb43beaebc8",
   "metadata": {},
   "source": [
    "### Varredura linear\n",
    "Blá blá blá"
   ]
  },
  {
   "cell_type": "code",
   "execution_count": 15,
   "id": "346237a2-75e1-4ef2-82e0-437a3ff8155a",
   "metadata": {},
   "outputs": [],
   "source": [
    "def linear_sweeping(first_convex_hull: list[tuple], second_convex_hull: list[tuple]) -> bool:\n",
    "    destines1, origins1 = get_destines_and_origins_maps(first_convex_hull)\n",
    "    destines2, origins2 = get_destines_and_origins_maps(second_convex_hull)\n",
    "\n",
    "    sorted_vertices = sort_vertices(first_convex_hull.extend(second_convex_hull)) # Todos os vértices\n",
    "\n",
    "    rbt = RedBlackTree()\n",
    "\n",
    "    for vertix in sorted_vertices:\n",
    "        destines = destines1.get(vertix)\n",
    "        if destines and len(destines) > 0: # Existe um ou mais vértices de destino partindo do atual\n",
    "            if destines2.get(vertix) or origins2.get(vertix): # Coordenadas de um vértice são compartilhadas entre as envoltórias\n",
    "                return True\n",
    "\n",
    "            for destine in destines:\n",
    "                rbt.add(vertix, destine, 1)\n",
    "                curr_segment = rbt.search_segment(vertix[0], vertix[1], vertix, destine)\n",
    "                curr_successor = rbt.successor(curr_segment)\n",
    "                curr_predecessor = rbt.predecesor(curr_segment)\n",
    "                if segments_intersect(curr_segment, curr_successor) or segments_intersect(curr_segment, curr_predecessor):\n",
    "                    return True\n",
    "        destines = destines2.get(vertix)\n",
    "        \n",
    "        if destines and len(destines) > 0:\n",
    "            if destines1.get(vertix) or origins1.get(vertix): # Coordenadas de um vértice são compartilhadas entre as envoltórias\n",
    "                return True\n",
    "\n",
    "            for destine in destines:\n",
    "                rbt.add(vertix, destine, 2)\n",
    "                curr_segment = rbt.search_segment(vertix[0], vertix[1], vertix, destine)\n",
    "                curr_successor = rbt.successor(curr_segment)\n",
    "                curr_predecessor = rbt.predecesor(curr_segment)\n",
    "                if segments_intersect(curr_segment, curr_successor) or segments_intersect(curr_segment, curr_predecessor):\n",
    "                    return True\n",
    "\n",
    "        \n",
    "        origins = origins1.get(vertix)\n",
    "        if origins and len(origins) > 0: # Existe um ou mais vértices de origem que levam ao atual\n",
    "            if origins2.get(vertix) or destines2.get(vertix): # Coordenadas de um vértice são compartilhadas entre as envoltórias\n",
    "                return True\n",
    "\n",
    "            for origin in origins:\n",
    "                curr_segment = rbt.search_segment(vertix[0], vertix[1], origin, vertix)\n",
    "                curr_successor = rbt.successor(curr_segment)\n",
    "                curr_predecessor = rbt.predecesor(curr_segment)\n",
    "                if segments_intersect(curr_predecessor, curr_successor):\n",
    "                    return True\n",
    "                rbt.remove(curr_segment)\n",
    "        origins = origins2.get(vertix)\n",
    "        \n",
    "        if origins and len(origins) > 0:\n",
    "            if origins1.get(vertix) or destines1.get(vertix): # Coordenadas de um vértice são compartilhadas entre as envoltórias\n",
    "                return True\n",
    "\n",
    "            for origin in origins:\n",
    "                curr_segment = rbt.search_segment(vertix[0], vertix[1], origin, vertix)\n",
    "                curr_successor = rbt.successor(curr_segment)\n",
    "                curr_predecessor = rbt.predecesor(curr_segment)\n",
    "                if segments_intersect(curr_predecessor, curr_successor):\n",
    "                    return True\n",
    "                rbt.remove(curr_segment)\n",
    "    return False"
   ]
  },
  {
   "cell_type": "markdown",
   "id": "2a3cdd9d-3b02-4eff-899e-4fee4eb1b361",
   "metadata": {},
   "source": [
    "### Definição da separabilidade linear\n",
    "Os conjuntos de dados serão separaveis linearmente, sempre que as envoltórias convexas não possuirem nenhuma interseção na verificação por varredura linear."
   ]
  },
  {
   "cell_type": "code",
   "execution_count": 16,
   "id": "9cef1b9d-c485-44e4-99d0-1b9a21a9868a",
   "metadata": {},
   "outputs": [],
   "source": [
    "def linear_separability(convex_hull_1: list[tuple], convex_hull_2: list[tuple]) -> bool:\n",
    "    return not linear_sweeping(convex_hull_1, convex_hull_2)"
   ]
  },
  {
   "cell_type": "markdown",
   "id": "861f665d-c9cb-452a-85e1-d05c5752453c",
   "metadata": {},
   "source": [
    "## Construção do modelo\n",
    "Blá blá blá"
   ]
  },
  {
   "cell_type": "code",
   "execution_count": null,
   "id": "dc02cb60-49fc-4f73-a440-03646da3cfd1",
   "metadata": {},
   "outputs": [],
   "source": []
  },
  {
   "cell_type": "markdown",
   "id": "d11aa8e0-1add-460c-8111-0e5407f9ff44",
   "metadata": {},
   "source": [
    "## Classificador\n",
    "Blá blá blá"
   ]
  },
  {
   "cell_type": "code",
   "execution_count": null,
   "id": "993ea152-96cb-43d3-8bf4-23a6e4cca283",
   "metadata": {},
   "outputs": [],
   "source": []
  },
  {
   "cell_type": "markdown",
   "id": "a9d9d7ee-91ca-4f95-8295-62f411cd56d1",
   "metadata": {},
   "source": [
    "## Representação gráfica da classificação\n",
    "Blá blá blá"
   ]
  },
  {
   "cell_type": "code",
   "execution_count": null,
   "id": "1c4e06d6-35d2-45e2-a871-c116da28c70a",
   "metadata": {},
   "outputs": [],
   "source": [
    "class GraphicRepresentation:\n",
    "    def __init__(self):\n",
    "        self.first_label_color = \"blue\"\n",
    "        self.second_label_color = \"orange\"\n",
    "        self.intersection_color = \"red\"\n",
    "        self.connection_color = \"gray\"\n",
    "        self.model_line_color = \"green\"\n",
    "\n",
    "    def plot_train_points(self, first_label_points: list[tuple], second_label_points: list[tuple]):\n",
    "        self.first_label_train_x = [point[0] for point in first_label_points]\n",
    "        self.first_label_train_y = [point[1] for point in first_label_points]\n",
    "        plt.scatter(self.first_label_train_x, self.first_label_train_y, color=self.first_label_color)\n",
    "\n",
    "        self.second_label_train_x = [point[0] for point in second_label_points]\n",
    "        self.second_label_train_y = [point[1] for point in second_label_points]\n",
    "        plt.scatter(self.second_label_train_x, self.second_label_train_y, color=self.second_label_color)\n",
    "\n",
    "        plt.show()\n",
    "\n",
    "    def plot_convex_hull(self, first_convex_hull: list[tuple], second_convex_hull: list[tuple]):\n",
    "        # Plotando novamente os pontos na figura\n",
    "        plt.scatter(self.first_label_train_x, self.first_label_train_y, color=self.first_label_color)\n",
    "        plt.scatter(self.second_label_train_x, self.second_label_train_y, color=self.second_label_color)\n",
    "\n",
    "        self.first_convex_hull_x = [point[0] for point in first_convex_hull] + [first_convex_hull[0][0]]\n",
    "        self.first_convex_hull_y = [point[1] for point in first_convex_hull] + [first_convex_hull[0][1]]\n",
    "        plt.plot(self.first_convex_hull_x, self.first_convex_hull_y, color=self.first_label_color)\n",
    "\n",
    "        self.second_convex_hull_x = [point[0] for point in second_convex_hull] + [second_convex_hull[0][0]]\n",
    "        self.second_convex_hull_y = [point[1] for point in second_convex_hull] + [second_convex_hull[0][1]]\n",
    "        plt.plot(self.second_convex_hull_x, self.second_convex_hull_y, color=self.second_label_color)\n",
    "\n",
    "        plt.show()\n",
    "\n",
    "    def plot_hull_intersection(self, first_segment: list[tuple], second_segment: list[tuple]):\n",
    "        # Plotando somente as envoltórias convexas\n",
    "        plt.plot(self.first_convex_hull_x, self.first_convex_hull_y, color=self.first_label_color)\n",
    "        plt.plot(self.second_convex_hull_x, self.second_convex_hull_y, color=self.second_label_color)\n",
    "\n",
    "        if first_segment is None and second_segment is None:\n",
    "            plt.plot(self.first_convex_hull_x, self.first_convex_hull_y, color=self.intersection_color)\n",
    "            plt.plot(self.second_convex_hull_x, self.second_convex_hull_y, color=self.intersection_color)\n",
    "\n",
    "            plt.show()\n",
    "        else:\n",
    "            first_segment_x = [point[0] for point in first_segment]\n",
    "            first_segment_y = [point[1] for point in first_segment]\n",
    "            plt.plot(self.first_segment_x, self.first_segment_y, color=self.intersection_color)\n",
    "\n",
    "            second_segment_x = [point[0] for point in second_segment]\n",
    "            second_segment_y = [point[1] for point in second_segment]\n",
    "            plt.plot(self.second_segment_x, self.second_segment_y, color=self.intersection_color)\n",
    "\n",
    "            plt.show()\n",
    "\n",
    "    def plot_model_line(self, closest_from_1: tuple, closest_from_2: tuple, model_slope: float, model_constant: float):\n",
    "        # Plotando pontos de treino iniciais\n",
    "        plt.scatter(self.first_label_train_x, self.first_label_train_y, color=self.first_label_color)\n",
    "        plt.scatter(self.second_label_train_x, self.second_label_train_y, color=self.second_label_color)\n",
    "        # Plotando as arestas da envoltória convexa\n",
    "        plt.plot(self.first_convex_hull_x, self.first_convex_hull_y, color=self.first_label_color)\n",
    "        plt.plot(self.second_convex_hull_x, self.second_convex_hull_y, color=self.second_label_color)\n",
    "        # Plotando a linha que conecta os pontos mais próximos das duas envoltórias\n",
    "        self.connection_line_x = [closest_from_1[0], closest_from_2[0]]\n",
    "        self.connection_line_y = [closest_from_1[1], closest_from_2[1]]\n",
    "        plt.plot(self.connection_line_x, self.connection_line_y, color=self.connection_color)\n",
    "        # Plotando a reta que separa as duas classes\n",
    "        min_x = min(self.first_label_train_x + self.second_label_train_x)\n",
    "        min_y = min(self.first_label_train_y + self.second_label_train_y)"
   ]
  },
  {
   "cell_type": "markdown",
   "id": "cf747da7-58f0-4720-833f-0e0fe7354f25",
   "metadata": {},
   "source": [
    "## Metrificação do classificador\n",
    "Blá blá blá"
   ]
  },
  {
   "cell_type": "code",
   "execution_count": null,
   "id": "bdfd9bb1-a512-48bc-b9c0-004ea4654d92",
   "metadata": {},
   "outputs": [],
   "source": []
  },
  {
   "cell_type": "markdown",
   "id": "3343865f-c34c-41a2-88ac-054467169595",
   "metadata": {},
   "source": [
    "# Testes do algoritmo\n",
    "Dizer de onde estão surgindo as fontes de dados, como elas são tratadas e os desafios relacionados a uma classificação eficiente no algoritmo implementado"
   ]
  },
  {
   "cell_type": "markdown",
   "id": "f694ddd2-a71a-497a-ad6e-d0082edf1d8f",
   "metadata": {},
   "source": [
    "## Redutor de dimensionalidade\n",
    "Falar qual foi a estratégia empregada para a redução e como ela deve ser utilizada."
   ]
  },
  {
   "cell_type": "code",
   "execution_count": null,
   "id": "45e230d0-65eb-4438-981c-7447c99c6df0",
   "metadata": {},
   "outputs": [],
   "source": []
  },
  {
   "cell_type": "markdown",
   "id": "58cf5b85-8483-4a4f-bb9a-800993425dbb",
   "metadata": {},
   "source": [
    "## Teste 1 (2D)\n",
    "Dizer como a base foi obtida, comentar o fato de que a dimensionalidade não necessita de tratamento e que isso pode levar a melhores resultados de classificação."
   ]
  },
  {
   "cell_type": "code",
   "execution_count": null,
   "id": "6e8f22fe-6490-493a-bc41-1d00752c47d2",
   "metadata": {},
   "outputs": [],
   "source": []
  },
  {
   "cell_type": "markdown",
   "id": "767534b8-97b2-4de3-98eb-1f6c11650b72",
   "metadata": {},
   "source": [
    "## Teste 2 (2D)\n",
    "Dizer como a base foi obtida, comentar o fato de que a dimensionalidade não necessita de tratamento e que isso pode levar a melhores resultados de classificação."
   ]
  },
  {
   "cell_type": "code",
   "execution_count": null,
   "id": "3bacbe65-6f1a-4cff-af89-4d866e8319dd",
   "metadata": {},
   "outputs": [],
   "source": []
  },
  {
   "cell_type": "markdown",
   "id": "46b0811d-cbf9-4e3a-9f9f-116c6db2874a",
   "metadata": {},
   "source": [
    "## Teste 3 (2D)\n",
    "Dizer como a base foi obtida, comentar o fato de que a dimensionalidade não necessita de tratamento e que isso pode levar a melhores resultados de classificação."
   ]
  },
  {
   "cell_type": "code",
   "execution_count": null,
   "id": "8897cca8-bd89-409b-8ecc-7a9a1b03a481",
   "metadata": {},
   "outputs": [],
   "source": []
  },
  {
   "cell_type": "markdown",
   "id": "e34aeddf-20c8-4334-8247-853a217fc61d",
   "metadata": {},
   "source": [
    "## Teste 4 (3D)\n",
    "Dizer como a base foi obtida, comentar o fato de que a dimensionalidade necessita de tratamento e que isso pode levar a piores resultados de classificação."
   ]
  },
  {
   "cell_type": "code",
   "execution_count": null,
   "id": "377b6acd-cd7f-4859-88c3-ec808a4e5e21",
   "metadata": {},
   "outputs": [],
   "source": []
  },
  {
   "cell_type": "markdown",
   "id": "9e5c2ba6-b56a-42da-baac-4898dd0b3af0",
   "metadata": {},
   "source": [
    "## Teste 5 (3D)\n",
    "Dizer como a base foi obtida, comentar o fato de que a dimensionalidade necessita de tratamento e que isso pode levar a piores resultados de classificação."
   ]
  },
  {
   "cell_type": "code",
   "execution_count": null,
   "id": "d8489caf-6392-4462-a554-b9695e580ef9",
   "metadata": {},
   "outputs": [],
   "source": []
  },
  {
   "cell_type": "markdown",
   "id": "375b50d4-3f61-45a7-8f3c-b00ace0aaa4e",
   "metadata": {},
   "source": [
    "## Teste 6 (XD)\n",
    "Dizer como a base foi obtida, comentar o fato de que a dimensionalidade necessita de tratamento e que isso pode levar a piores resultados de classificação."
   ]
  },
  {
   "cell_type": "code",
   "execution_count": null,
   "id": "6a35d48f-46be-4505-87de-a8481a9742f8",
   "metadata": {},
   "outputs": [],
   "source": []
  },
  {
   "cell_type": "markdown",
   "id": "eb9f1bb4-c388-4301-a907-417c40a999a8",
   "metadata": {},
   "source": [
    "## Teste 7 (XD)\n",
    "Dizer como a base foi obtida, comentar o fato de que a dimensionalidade necessita de tratamento e que isso pode levar a piores resultados de classificação."
   ]
  },
  {
   "cell_type": "code",
   "execution_count": null,
   "id": "e7622fb6-b590-45d2-96ec-1f8d664c91f5",
   "metadata": {},
   "outputs": [],
   "source": []
  },
  {
   "cell_type": "markdown",
   "id": "57ab1f47-5e11-402d-9126-d32b3f918d61",
   "metadata": {},
   "source": [
    "## Teste 8 (XD)\n",
    "Dizer como a base foi obtida, comentar o fato de que a dimensionalidade necessita de tratamento e que isso pode levar a piores resultados de classificação."
   ]
  },
  {
   "cell_type": "code",
   "execution_count": null,
   "id": "81a3afd6-2fad-494a-a345-62df302759c9",
   "metadata": {},
   "outputs": [],
   "source": []
  },
  {
   "cell_type": "markdown",
   "id": "d760cbc7-7bda-4420-aa11-e6080dd8714b",
   "metadata": {},
   "source": [
    "## Teste 9 (XD)\n",
    "Dizer como a base foi obtida, comentar o fato de que a dimensionalidade necessita de tratamento e que isso pode levar a piores resultados de classificação."
   ]
  },
  {
   "cell_type": "code",
   "execution_count": null,
   "id": "baa44b34-26a1-41a3-bffb-7f16b1858c26",
   "metadata": {},
   "outputs": [],
   "source": []
  },
  {
   "cell_type": "markdown",
   "id": "a326d936-51f3-4a31-ba84-1c91b2b0d143",
   "metadata": {},
   "source": [
    "## Teste 10 (XD)\n",
    "Dizer como a base foi obtida, comentar o fato de que a dimensionalidade necessita de tratamento e que isso pode levar a piores resultados de classificação."
   ]
  },
  {
   "cell_type": "code",
   "execution_count": null,
   "id": "210b03f7-4f9c-4c17-b203-2a8b0bcf1527",
   "metadata": {},
   "outputs": [],
   "source": []
  },
  {
   "cell_type": "markdown",
   "id": "a5d16e16-be7a-4004-8c1b-c5895d5990ee",
   "metadata": {},
   "source": [
    "# Conclusão\n",
    "Comentar sobre como o experimento contribuiu para o aprendizado da matéria, como o resultado dos testes foi diferente do ideal, etc..."
   ]
  }
 ],
 "metadata": {
  "kernelspec": {
   "display_name": "Python 3 (ipykernel)",
   "language": "python",
   "name": "python3"
  },
  "language_info": {
   "codemirror_mode": {
    "name": "ipython",
    "version": 3
   },
   "file_extension": ".py",
   "mimetype": "text/x-python",
   "name": "python",
   "nbconvert_exporter": "python",
   "pygments_lexer": "ipython3",
   "version": "3.11.6"
  }
 },
 "nbformat": 4,
 "nbformat_minor": 5
}
